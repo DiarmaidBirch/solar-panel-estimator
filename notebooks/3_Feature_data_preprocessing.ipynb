{
 "cells": [
  {
   "cell_type": "markdown",
   "id": "84ea2f07-5c4d-42aa-a0c8-63f21617c444",
   "metadata": {},
   "source": [
    "# Phase 3: Feature data preprocessing\n",
    "## Overview\n",
    "In this section I will aquiring and cleaning data for the independent variables for each system. I already have: latitude, longitude, elevation_m, azimuth, tilt. I need to get data on: solar irradiance, temperature, cloud cover, wind speed, humidity, and precipitation. I'm using the NASA POWER to get this data."
   ]
  },
  {
   "cell_type": "markdown",
   "id": "20cb4a29-c889-4b94-9d1d-b566d881508e",
   "metadata": {},
   "source": [
    "## Importing needed libraries"
   ]
  },
  {
   "cell_type": "code",
   "execution_count": 14,
   "id": "9548248a-a147-4ba7-a4cb-d4a5cf89f857",
   "metadata": {},
   "outputs": [
    {
     "data": {
      "text/html": [
       "<div>\n",
       "<style scoped>\n",
       "    .dataframe tbody tr th:only-of-type {\n",
       "        vertical-align: middle;\n",
       "    }\n",
       "\n",
       "    .dataframe tbody tr th {\n",
       "        vertical-align: top;\n",
       "    }\n",
       "\n",
       "    .dataframe thead th {\n",
       "        text-align: right;\n",
       "    }\n",
       "</style>\n",
       "<table border=\"1\" class=\"dataframe\">\n",
       "  <thead>\n",
       "    <tr style=\"text-align: right;\">\n",
       "      <th></th>\n",
       "      <th>system_id</th>\n",
       "      <th>latitude</th>\n",
       "      <th>longitude</th>\n",
       "      <th>elevation_m</th>\n",
       "      <th>azimuth</th>\n",
       "      <th>tilt</th>\n",
       "      <th>dc_capacity_kW</th>\n",
       "      <th>mean_power_generation_kW</th>\n",
       "      <th>performance_ratio</th>\n",
       "    </tr>\n",
       "  </thead>\n",
       "  <tbody>\n",
       "    <tr>\n",
       "      <th>0</th>\n",
       "      <td>10000</td>\n",
       "      <td>44.914573</td>\n",
       "      <td>-93.162525</td>\n",
       "      <td>288.791870</td>\n",
       "      <td>180.0</td>\n",
       "      <td>33.0</td>\n",
       "      <td>5.850</td>\n",
       "      <td>0.940219</td>\n",
       "      <td>0.160721</td>\n",
       "    </tr>\n",
       "    <tr>\n",
       "      <th>1</th>\n",
       "      <td>10001</td>\n",
       "      <td>39.483937</td>\n",
       "      <td>-76.301594</td>\n",
       "      <td>51.222542</td>\n",
       "      <td>180.0</td>\n",
       "      <td>20.0</td>\n",
       "      <td>3.360</td>\n",
       "      <td>0.920926</td>\n",
       "      <td>0.274085</td>\n",
       "    </tr>\n",
       "    <tr>\n",
       "      <th>2</th>\n",
       "      <td>10003</td>\n",
       "      <td>40.346434</td>\n",
       "      <td>-76.423645</td>\n",
       "      <td>145.150772</td>\n",
       "      <td>180.0</td>\n",
       "      <td>35.0</td>\n",
       "      <td>11.040</td>\n",
       "      <td>3.251637</td>\n",
       "      <td>0.294532</td>\n",
       "    </tr>\n",
       "    <tr>\n",
       "      <th>3</th>\n",
       "      <td>10005</td>\n",
       "      <td>33.198982</td>\n",
       "      <td>-97.150581</td>\n",
       "      <td>207.639435</td>\n",
       "      <td>180.0</td>\n",
       "      <td>19.0</td>\n",
       "      <td>15.665</td>\n",
       "      <td>3.438072</td>\n",
       "      <td>0.219475</td>\n",
       "    </tr>\n",
       "    <tr>\n",
       "      <th>4</th>\n",
       "      <td>10010</td>\n",
       "      <td>45.136089</td>\n",
       "      <td>-88.010933</td>\n",
       "      <td>202.512192</td>\n",
       "      <td>180.0</td>\n",
       "      <td>35.0</td>\n",
       "      <td>12.192</td>\n",
       "      <td>3.844456</td>\n",
       "      <td>0.315326</td>\n",
       "    </tr>\n",
       "  </tbody>\n",
       "</table>\n",
       "</div>"
      ],
      "text/plain": [
       "   system_id   latitude  longitude  elevation_m  azimuth  tilt  \\\n",
       "0      10000  44.914573 -93.162525   288.791870    180.0  33.0   \n",
       "1      10001  39.483937 -76.301594    51.222542    180.0  20.0   \n",
       "2      10003  40.346434 -76.423645   145.150772    180.0  35.0   \n",
       "3      10005  33.198982 -97.150581   207.639435    180.0  19.0   \n",
       "4      10010  45.136089 -88.010933   202.512192    180.0  35.0   \n",
       "\n",
       "   dc_capacity_kW  mean_power_generation_kW  performance_ratio  \n",
       "0           5.850                  0.940219           0.160721  \n",
       "1           3.360                  0.920926           0.274085  \n",
       "2          11.040                  3.251637           0.294532  \n",
       "3          15.665                  3.438072           0.219475  \n",
       "4          12.192                  3.844456           0.315326  "
      ]
     },
     "metadata": {},
     "output_type": "display_data"
    }
   ],
   "source": [
    "import requests\n",
    "import pandas as pd\n",
    "from io import StringIO\n",
    "import os\n",
    "import time\n",
    "\n",
    "sites_df = pd.read_csv('../../processed_data/useable_systems_metadata.csv')\n",
    "display(sites_df.head())"
   ]
  },
  {
   "cell_type": "markdown",
   "id": "c30479f0-ef64-4334-9ffd-56b468e80a05",
   "metadata": {},
   "source": [
    "## Initial data inspection\n",
    "First I'm going to look at how the data I need for each system is stored in the NASA POWER."
   ]
  },
  {
   "cell_type": "code",
   "execution_count": 5,
   "id": "e26a55a0-d350-4314-9dd0-5797df8fd4b4",
   "metadata": {},
   "outputs": [
    {
     "name": "stdout",
     "output_type": "stream",
     "text": [
      "-BEGIN HEADER-\n",
      "NASA/POWER Source Native Resolution Daily Data \n",
      "Dates (month/day/year): 01/01/2019 through 12/31/2019 in LST\n",
      "Location: latitude  44.9146   longitude -93.1625 \n",
      "elevation from MERRA-2: Average for 0.5 x 0.625 degree lat/lon region = 273.48 meters\n",
      "The value for missing source data that cannot be computed or is outside of the sources availability range: -999 \n",
      "parameter(s): \n",
      "ALLSKY_SFC_SW_DWN     CERES SYN1deg All Sky Surface Shortwave Downward Irradiance (kW-hr/m^2/day) \n",
      "T2M                   MERRA-2 Temperature at 2 Meters (C) \n",
      "CLOUD_AMT             CERES SYN1deg Cloud Amount (%) \n",
      "WS10M                 MERRA-2 Wind Speed at 10 Meters (m/s) \n",
      "PRECTOTCORR           MERRA-2 Precipitation Corrected (mm/day) \n",
      "RH2M                  MERRA-2 Relative Humidity at 2 Meters (%) \n",
      "-END HEADER-\n",
      "YEAR,MO,DY,ALLSKY_SFC_SW_DWN,T2M,CLOUD_AMT,WS10M,PRECTOTCORR,RH2M\n",
      "2019,1,1,1.998,-21.69,43.47,3.23,0.0,89.49\n",
      "2019,1,2,1.3949,-13.4,64.74,4.29,0.02,94.78\n",
      "2019,1,3,1.6867,-5.66,42.8,4.6\n"
     ]
    }
   ],
   "source": [
    "# These the variables I want data for: solar irradiance, air temp, cloud cover, wind speed, precipitation, humidity.\n",
    "params = 'ALLSKY_SFC_SW_DWN,T2M,CLOUD_AMT,WS10M,PRECTOTCORR,RH2M'\n",
    "\n",
    "# Sets the url for the request\n",
    "base_url = \"https://power.larc.nasa.gov/api/temporal/daily/point?parameters=\" + params + \"&community=RE\"\n",
    "system_url = base_url + \"&longitude=-93.162525&latitude=44.914573&start=20190101&end=20191231&format=CSV\"\n",
    "response = requests.get(system_url)\n",
    "print(response.text[:1000])"
   ]
  },
  {
   "cell_type": "markdown",
   "id": "c2e0b559-760f-4345-b476-2b5a02356649",
   "metadata": {},
   "source": [
    "## Extracting data for each system\n",
    "Next I'm going to download data for each year I downloaded system generation on and store it."
   ]
  },
  {
   "cell_type": "code",
   "execution_count": 17,
   "id": "86179e18-75ee-47f4-801a-545274ed4f77",
   "metadata": {},
   "outputs": [
    {
     "name": "stdout",
     "output_type": "stream",
     "text": [
      "Started\n",
      "0\n",
      "100\n",
      "200\n",
      "300\n",
      "400\n",
      "500\n",
      "600\n",
      "700\n",
      "800\n",
      "Ended\n"
     ]
    }
   ],
   "source": [
    "# The folder each file will be stored in\n",
    "base_file_path = '../../raw_data/system_weather_data/'\n",
    "base_folder_path_generation_data = '../../raw_data/system_generation_data/'\n",
    "\n",
    "print(\"Started\")\n",
    "for index, row in sites_df.iterrows():\n",
    "    sys_id = str(int(row['system_id']))\n",
    "    years = []\n",
    "    for i in range(5):\n",
    "        csv = pd.read_csv(base_folder_path_generation_data + sys_id + '/' + str(i+1) + '.csv')\n",
    "        years.append(csv.iloc[1,0][0:4])\n",
    "        \n",
    "    for year in years:    \n",
    "        # Gets needed information\n",
    "        lon = str(row['longitude'])system\n",
    "        lat = str(row['latitude'])\n",
    "        sys_id = str(int(row['system_id']))\n",
    "\n",
    "        # Gets the data for that systems coordinates\n",
    "        system_url = base_url + \"&longitude=\" + lon + \"&latitude=\" + lat + \"&start=\" + year + \"0101&end=\" + year + \"1231&format=CSV\"\n",
    "        response = requests.get(system_url)\n",
    "\n",
    "        system_folder_path = base_file_path + sys_id\n",
    "        # Created a folder at that path if it doesn't exist\n",
    "        if not os.path.exists(system_folder_path):\n",
    "                os.makedirs(system_folder_path)\n",
    "    \n",
    "        # Saves that data\n",
    "        df = pd.read_csv(StringIO(response.text), skiprows=14)\n",
    "        df.to_csv(system_folder_path + '/' + year + '.csv', index=False)\n",
    "    \n",
    "        # Prevents spamming the server\n",
    "        time.sleep(0.1)\n",
    "        # Reports progress\n",
    "    if index % 100 == 0:\n",
    "        print(index)\n",
    "        \n",
    "print(\"Ended\")"
   ]
  },
  {
   "cell_type": "code",
   "execution_count": null,
   "id": "f7262131-c5c7-42db-81a9-cb2823ae87ac",
   "metadata": {},
   "outputs": [],
   "source": []
  }
 ],
 "metadata": {
  "kernelspec": {
   "display_name": "Python 3 (ipykernel)",
   "language": "python",
   "name": "python3"
  },
  "language_info": {
   "codemirror_mode": {
    "name": "ipython",
    "version": 3
   },
   "file_extension": ".py",
   "mimetype": "text/x-python",
   "name": "python",
   "nbconvert_exporter": "python",
   "pygments_lexer": "ipython3",
   "version": "3.12.3"
  }
 },
 "nbformat": 4,
 "nbformat_minor": 5
}
