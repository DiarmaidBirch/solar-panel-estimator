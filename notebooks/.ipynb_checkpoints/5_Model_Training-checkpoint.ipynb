{
 "cells": [
  {
   "cell_type": "markdown",
   "id": "bf03b6d4-d364-4270-bfd5-10381285db06",
   "metadata": {},
   "source": [
    "# Phase 5: Training the model\n",
    "## Overview\n",
    "In this section I will training the regression model. I will look at the RMSE for each degree of polynomial from 1-5 then use the degree with the lowest RMSE."
   ]
  },
  {
   "cell_type": "markdown",
   "id": "2e52449c-8692-41e4-ab31-aae15e35a356",
   "metadata": {},
   "source": [
    "## Importing needed files and libraries"
   ]
  },
  {
   "cell_type": "code",
   "execution_count": 1,
   "id": "1f14019e-3dbd-4538-93ff-72c58c7ecd1a",
   "metadata": {},
   "outputs": [
    {
     "data": {
      "text/html": [
       "<div>\n",
       "<style scoped>\n",
       "    .dataframe tbody tr th:only-of-type {\n",
       "        vertical-align: middle;\n",
       "    }\n",
       "\n",
       "    .dataframe tbody tr th {\n",
       "        vertical-align: top;\n",
       "    }\n",
       "\n",
       "    .dataframe thead th {\n",
       "        text-align: right;\n",
       "    }\n",
       "</style>\n",
       "<table border=\"1\" class=\"dataframe\">\n",
       "  <thead>\n",
       "    <tr style=\"text-align: right;\">\n",
       "      <th></th>\n",
       "      <th>system_id</th>\n",
       "      <th>latitude</th>\n",
       "      <th>longitude</th>\n",
       "      <th>elevation_m</th>\n",
       "      <th>abs(azimuth - 180)</th>\n",
       "      <th>tilt</th>\n",
       "      <th>performance_ratio</th>\n",
       "      <th>solar irradiance</th>\n",
       "      <th>temperature</th>\n",
       "      <th>cloud cover</th>\n",
       "      <th>wind speed</th>\n",
       "      <th>humidity</th>\n",
       "      <th>precipitation</th>\n",
       "    </tr>\n",
       "  </thead>\n",
       "  <tbody>\n",
       "    <tr>\n",
       "      <th>0</th>\n",
       "      <td>10000</td>\n",
       "      <td>44.914573</td>\n",
       "      <td>-93.162525</td>\n",
       "      <td>288.791870</td>\n",
       "      <td>0.0</td>\n",
       "      <td>33.0</td>\n",
       "      <td>0.160721</td>\n",
       "      <td>3.743916</td>\n",
       "      <td>5.400575</td>\n",
       "      <td>63.483260</td>\n",
       "      <td>3.976438</td>\n",
       "      <td>3.027014</td>\n",
       "      <td>83.503699</td>\n",
       "    </tr>\n",
       "    <tr>\n",
       "      <th>1</th>\n",
       "      <td>10001</td>\n",
       "      <td>39.483937</td>\n",
       "      <td>-76.301594</td>\n",
       "      <td>51.222542</td>\n",
       "      <td>0.0</td>\n",
       "      <td>20.0</td>\n",
       "      <td>0.274085</td>\n",
       "      <td>4.093048</td>\n",
       "      <td>12.999041</td>\n",
       "      <td>63.736466</td>\n",
       "      <td>3.496603</td>\n",
       "      <td>2.970356</td>\n",
       "      <td>77.229479</td>\n",
       "    </tr>\n",
       "    <tr>\n",
       "      <th>2</th>\n",
       "      <td>10005</td>\n",
       "      <td>33.198982</td>\n",
       "      <td>-97.150581</td>\n",
       "      <td>207.639435</td>\n",
       "      <td>0.0</td>\n",
       "      <td>19.0</td>\n",
       "      <td>0.219475</td>\n",
       "      <td>4.707510</td>\n",
       "      <td>18.458411</td>\n",
       "      <td>50.966411</td>\n",
       "      <td>4.469096</td>\n",
       "      <td>2.365068</td>\n",
       "      <td>71.625863</td>\n",
       "    </tr>\n",
       "    <tr>\n",
       "      <th>3</th>\n",
       "      <td>10010</td>\n",
       "      <td>45.136089</td>\n",
       "      <td>-88.010933</td>\n",
       "      <td>202.512192</td>\n",
       "      <td>0.0</td>\n",
       "      <td>35.0</td>\n",
       "      <td>0.315326</td>\n",
       "      <td>3.561523</td>\n",
       "      <td>5.190986</td>\n",
       "      <td>66.488795</td>\n",
       "      <td>4.549726</td>\n",
       "      <td>3.327918</td>\n",
       "      <td>85.779178</td>\n",
       "    </tr>\n",
       "    <tr>\n",
       "      <th>4</th>\n",
       "      <td>10013</td>\n",
       "      <td>37.231378</td>\n",
       "      <td>-121.874925</td>\n",
       "      <td>66.506325</td>\n",
       "      <td>0.0</td>\n",
       "      <td>26.0</td>\n",
       "      <td>0.312527</td>\n",
       "      <td>5.223814</td>\n",
       "      <td>14.121178</td>\n",
       "      <td>35.566384</td>\n",
       "      <td>2.675452</td>\n",
       "      <td>2.020767</td>\n",
       "      <td>74.728548</td>\n",
       "    </tr>\n",
       "  </tbody>\n",
       "</table>\n",
       "</div>"
      ],
      "text/plain": [
       "   system_id   latitude   longitude  elevation_m  abs(azimuth - 180)  tilt  \\\n",
       "0      10000  44.914573  -93.162525   288.791870                 0.0  33.0   \n",
       "1      10001  39.483937  -76.301594    51.222542                 0.0  20.0   \n",
       "2      10005  33.198982  -97.150581   207.639435                 0.0  19.0   \n",
       "3      10010  45.136089  -88.010933   202.512192                 0.0  35.0   \n",
       "4      10013  37.231378 -121.874925    66.506325                 0.0  26.0   \n",
       "\n",
       "   performance_ratio  solar irradiance  temperature  cloud cover  wind speed  \\\n",
       "0           0.160721          3.743916     5.400575    63.483260    3.976438   \n",
       "1           0.274085          4.093048    12.999041    63.736466    3.496603   \n",
       "2           0.219475          4.707510    18.458411    50.966411    4.469096   \n",
       "3           0.315326          3.561523     5.190986    66.488795    4.549726   \n",
       "4           0.312527          5.223814    14.121178    35.566384    2.675452   \n",
       "\n",
       "   humidity  precipitation  \n",
       "0  3.027014      83.503699  \n",
       "1  2.970356      77.229479  \n",
       "2  2.365068      71.625863  \n",
       "3  3.327918      85.779178  \n",
       "4  2.020767      74.728548  "
      ]
     },
     "metadata": {},
     "output_type": "display_data"
    }
   ],
   "source": [
    "import pandas as pd\n",
    "from sklearn.preprocessing import PolynomialFeatures, StandardScaler\n",
    "from sklearn.linear_model import LinearRegression\n",
    "from sklearn.pipeline import Pipeline\n",
    "from sklearn.metrics import mean_squared_error\n",
    "import numpy as np\n",
    "import joblib\n",
    "\n",
    "training_df = pd.read_csv('../processed_data/dataset_splits/training_set.csv')\n",
    "validation_df = pd.read_csv('../processed_data/dataset_splits/validation_set.csv')\n",
    "display(training_df.head())"
   ]
  },
  {
   "cell_type": "markdown",
   "id": "a8b2bf85-892f-4239-89a3-f74f24befb0d",
   "metadata": {},
   "source": [
    "## Running the model\n",
    "Now we're going to run the model 5 times for each polynomial and calculate the RMSE."
   ]
  },
  {
   "cell_type": "code",
   "execution_count": 2,
   "id": "43c9a599-f841-4d44-8456-ce89adc8204a",
   "metadata": {},
   "outputs": [
    {
     "name": "stdout",
     "output_type": "stream",
     "text": [
      "0.058887900752506\n",
      "0.06669721553355948\n",
      "1.3838700174013474\n",
      "2.320668098619966\n",
      "1.1538859656163607\n"
     ]
    }
   ],
   "source": [
    "# Sets the columns for the features and label for training\n",
    "training_input = training_df.drop(columns=['performance_ratio'])\n",
    "training_output = training_df['performance_ratio']\n",
    "\n",
    "# Sets the columns for the features and label for validation\n",
    "validation_input = validation_df.drop(columns=['performance_ratio'])\n",
    "validation_output = validation_df['performance_ratio']\n",
    "\n",
    "# The pipeline that will run the model\n",
    "poly_model = Pipeline([\n",
    "    ('scaler', StandardScaler()),\n",
    "    ('poly', PolynomialFeatures()),\n",
    "    ('linear', LinearRegression())\n",
    "])\n",
    "\n",
    "\n",
    "for i in range(1,6):\n",
    "    # Sets the degree and fits the model with the training data\n",
    "    poly_model.set_params(poly__degree=i)\n",
    "    poly_model.fit(training_input, training_output)\n",
    "    \n",
    "    # Predicts the model output for the validation data\n",
    "    predicted_validation_output = poly_model.predict(validation_input)\n",
    "    \n",
    "    rmse = np.sqrt(mean_squared_error(predicted_validation_output, validation_output))\n",
    "    print(rmse)"
   ]
  },
  {
   "cell_type": "markdown",
   "id": "6e20fcd7-cbbe-4518-8cfe-7da83610f31b",
   "metadata": {},
   "source": [
    "## Saving the model\n",
    "We can see that a degree 1 model has the lowest RMSE therefore we will be using linear regression."
   ]
  },
  {
   "cell_type": "code",
   "execution_count": 8,
   "id": "3475be37-f896-49ae-8231-4bfbad6b44d7",
   "metadata": {},
   "outputs": [
    {
     "name": "stdout",
     "output_type": "stream",
     "text": [
      "Model saved\n"
     ]
    }
   ],
   "source": [
    "# Combines the validation and training data\n",
    "combined_input = pd.concat([training_input, validation_input], axis=0, ignore_index=True)\n",
    "combined_output = pd.concat([training_output, validation_output], axis=0, ignore_index=True)\n",
    "\n",
    "# Sets the final model parameters and fits it to the combined data\n",
    "poly_model.set_params(poly__degree=1)\n",
    "poly_model.fit(combined_input,combined_output)\n",
    "\n",
    "# Saves the model to be loaded later\n",
    "model_file = '../models/old_model.joblib'\n",
    "joblib.dump(poly_model, model_file)\n",
    "print(\"Model saved\")"
   ]
  },
  {
   "cell_type": "code",
   "execution_count": null,
   "id": "b07f25a7-0a36-464b-abb1-9254dae0259f",
   "metadata": {},
   "outputs": [],
   "source": []
  }
 ],
 "metadata": {
  "kernelspec": {
   "display_name": "Python 3 (ipykernel)",
   "language": "python",
   "name": "python3"
  },
  "language_info": {
   "codemirror_mode": {
    "name": "ipython",
    "version": 3
   },
   "file_extension": ".py",
   "mimetype": "text/x-python",
   "name": "python",
   "nbconvert_exporter": "python",
   "pygments_lexer": "ipython3",
   "version": "3.12.3"
  }
 },
 "nbformat": 4,
 "nbformat_minor": 5
}
