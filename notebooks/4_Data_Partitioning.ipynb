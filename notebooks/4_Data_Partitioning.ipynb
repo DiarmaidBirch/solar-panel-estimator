{
 "cells": [
  {
   "cell_type": "markdown",
   "id": "90b6866f-0c3a-4a68-ac76-620f20fd5d23",
   "metadata": {},
   "source": [
    "# Phase 4: Data partitioning\n",
    "## Overview\n",
    "In this section I will be splitting the data into 3 sets: the training set, the validation set, and the testing set. I will be randomly splitting the data in the ratio: 60% training, 20% validation, and 20% test."
   ]
  },
  {
   "cell_type": "code",
   "execution_count": 12,
   "id": "10c5b9de-d1ec-45be-9121-b74cb1daacf7",
   "metadata": {},
   "outputs": [],
   "source": [
    "import pandas as pd\n",
    "sites_df = pd.read_csv('../processed_data/final_systems_metadata.csv')\n",
    "    \n",
    "random_state = 42\n",
    "\n",
    "# Creates the test set\n",
    "df_test = sites_df.sample(frac=0.2, random_state=random_state)\n",
    "df_remaining = sites_df.drop(df_test.index)\n",
    "\n",
    "# Creates the validation set\n",
    "df_val = df_remaining.sample(frac=0.25, random_state=random_state)\n",
    "\n",
    "# Creates the training set\n",
    "df_train = df_remaining.drop(df_val.index)\n",
    "\n",
    "# Saves each set\n",
    "df_test.to_csv('../processed_data/dataset_splits/test_set.csv', index=False)\n",
    "df_val.to_csv('../processed_data/dataset_splits/validation_set.csv', index=False)\n",
    "df_train.to_csv('../processed_data/dataset_splits/training_set.csv', index=False)"
   ]
  },
  {
   "cell_type": "code",
   "execution_count": null,
   "id": "8288de28-a3e7-407b-8763-4a8543ed529f",
   "metadata": {},
   "outputs": [],
   "source": []
  }
 ],
 "metadata": {
  "kernelspec": {
   "display_name": "Python 3 (ipykernel)",
   "language": "python",
   "name": "python3"
  },
  "language_info": {
   "codemirror_mode": {
    "name": "ipython",
    "version": 3
   },
   "file_extension": ".py",
   "mimetype": "text/x-python",
   "name": "python",
   "nbconvert_exporter": "python",
   "pygments_lexer": "ipython3",
   "version": "3.12.3"
  }
 },
 "nbformat": 4,
 "nbformat_minor": 5
}
